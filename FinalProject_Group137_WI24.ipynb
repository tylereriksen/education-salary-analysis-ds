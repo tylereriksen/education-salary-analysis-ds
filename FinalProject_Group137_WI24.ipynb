{
 "cells": [
  {
   "cell_type": "markdown",
   "metadata": {},
   "source": [
    "# COGS 108 - How Important Is Your Degree?\n",
    "\n",
    "# Names\n",
    "\n",
    "- Sehee Kim\n",
    "- Rayyan Khalid\n",
    "- Andrey Kondratyuk\n",
    "- Saeji Tyler Hong\n",
    "- Yixuan Li\n",
    "\n",
    "# Abstract\n",
    "\n",
    "Undergraduate college students feel the desperate need to apply to graduate school in order to earn their degree, increasing their chances of securing a full time job with a desired pay. Especially in regards to the increase in housing after the pandemic and lay-offs in high technology companies, a satisfactory pay is crucial to obtain a comfortable living standard. However, our group seeks out the question of *is the relationship between the level of educational degree and income in the U.S. significant even after regarding the external factors such as race, gender, and age?* Are there other factors as crucial as a degree that can obtain financial security? After cleaning and analyzing the couple datasets, we found a statistical significance between the level of educational degree and income despite the contribution of race, age, and gender."
   ]
  },
  {
   "cell_type": "markdown",
   "metadata": {},
   "source": [
    "# Research Question"
   ]
  },
  {
   "cell_type": "markdown",
   "metadata": {},
   "source": [
    "Is the relationship between the level of educational degree and income in the U.S. significant even after regarding the external factors such as race, gender, and age?\n",
    "\n"
   ]
  },
  {
   "cell_type": "markdown",
   "metadata": {},
   "source": [
    "## Background and Prior Work"
   ]
  },
  {
   "cell_type": "markdown",
   "metadata": {},
   "source": [
    "The interplay between education and economic outcomes has been extensively studied, underscoring the value of education as a determinant of earnings. In the 1970s, Jacob Mincer established a model demonstrating that educational attainment and work experience are pivotal in predicting income levels. This foundational model has been crucial for subsequent research into human capital and wages, highlighting education's role in shaping economic prospects.\n",
    "\n",
    "However, the influence of education on earnings is not singular nor the most decisive across all demographics. Recent studies have begun to compare the relative impact of educational degrees with other factors such as work experience, race, and sex on an individual's income in the U.S. For example, disparities in earnings that arise from racial and gender differences have been observed even when educational attainment is controlled for, suggesting that while education is a significant factor, it is part of a complex interplay of variables influencing economic success.\n",
    "\n",
    "The nuanced understanding of education's economic return has been further elaborated in discussions by scholars and in platforms such as the World Bank Blogs, which examine the varying economic returns on education across different countries and demographic groups. These explorations underscore that education's value cannot be fully understood without considering the intersectionality of race and sex, which can both independently and collectively affect income.\n",
    "\n",
    "The comprehensive analysis by Anna Bernasek in The New York Times provides insight into the American education system's economic landscape. Bernasek's work points to the multifaceted nature of education's economic benefits and the challenges of measuring its impact due to intersecting factors such as race and sex, alongside the direct economic outcomes like income and productivity. Furthermore, she emphasizes that societal impacts, such as civic understanding and the generation of innovative ideas, are also essential dimensions of education's value, which may interact with these factors in complex ways.\n",
    "\n",
    "As this body of research evolves, it is becoming increasingly clear that to fully understand the determinants of income in the U.S., a comprehensive approach that considers educational degrees in conjunction with work experience, race, and sex is essential. This perspective is crucial for policymakers and educators aiming to leverage education as a tool for economic empowerment across diverse contexts.\n",
    "\n",
    "<a name=\"cite_note-1\"></a>1. [^](#cite_ref-1) Mincer, J. (1974). *Schooling, Experience, and Earnings*. National Bureau of Economic Research.\n",
    "\n",
    "<a name=\"cite_note-2\"></a>2. [^](#cite_ref-2) World Bank Blogs. [50 Years After Landmark Study, Returns to Education Remain Strong](https://blogs.worldbank.org/education/50-years-after-landmark-study-returns-education-remain-strong).\n",
    "\n",
    "<a name=\"cite_note-3\"></a>3. [^](#cite_ref-3) Bernasek, A. (2005, December 11). *What's the Return on Education?* The New York Times. [https://www.nytimes.com/2005/12/11/business/yourmoney/whats-the-return-on-education.html](https://www.nytimes.com/2005/12/11/business/yourmoney/whats-the-return-on-education.html)."
   ]
  },
  {
   "cell_type": "markdown",
   "metadata": {},
   "source": [
    "# Hypothesis\n"
   ]
  },
  {
   "cell_type": "markdown",
   "metadata": {},
   "source": [
    "\n",
    "The level of educational degree is still significant with individual’s wage, the higher the degree the higher the wage. Other external factors do have an influence on income, but the knowledge an individual gains from the degree is the most valuable in the working industry."
   ]
  },
  {
   "cell_type": "markdown",
   "metadata": {},
   "source": [
    "# Data"
   ]
  },
  {
   "cell_type": "markdown",
   "metadata": {},
   "source": [
    "## Setup"
   ]
  },
  {
   "cell_type": "code",
   "execution_count": 1,
   "metadata": {},
   "outputs": [],
   "source": [
    "# import necessary packages\n",
    "import pandas as pd\n",
    "import numpy as np\n",
    "import matplotlib.pyplot as plt\n",
    "import seaborn as sns\n",
    "import scipy.stats as stats\n",
    "from scipy.stats import ttest_ind, chisquare, normaltest, chi2_contingency\n",
    "import patsy\n",
    "import statsmodels.api as sm\n",
    "\n",
    "from sklearn.model_selection import train_test_split\n",
    "from sklearn.linear_model import LinearRegression"
   ]
  },
  {
   "cell_type": "markdown",
   "metadata": {},
   "source": [
    "## Data overview\n",
    "\n",
    "For each dataset include the following information\n",
    "  - Dataset Name: **cps18.csv**\n",
    "  - Link to the dataset: **on github**\n",
    "  - Number of observations: **19128**\n",
    "  - Number of variables: **12**\n",
    "\n",
    "The important variables in the cps18.csv are age, male (male or not male), incwage (income or wages of the person), hrs_per_wk (number of weekly working hours), wkswork (number of weeks of work annually), and the eds degree columns (education degree specified achieved or not) showing the education degrees. With this dataset, there are both quantitative and categorical data types in the data. Required cleaning consists of converting categorical data into numerical for our analysis, ensuring they are easily for code manipulation."
   ]
  },
  {
   "cell_type": "markdown",
   "metadata": {},
   "source": [
    "## cps18.csv"
   ]
  },
  {
   "cell_type": "markdown",
   "metadata": {},
   "source": [
    "We will first load in the necessary dataset containing values describing each person alone with their education level and salary."
   ]
  },
  {
   "cell_type": "code",
   "execution_count": 2,
   "metadata": {},
   "outputs": [
    {
     "data": {
      "text/html": [
       "<div>\n",
       "<style scoped>\n",
       "    .dataframe tbody tr th:only-of-type {\n",
       "        vertical-align: middle;\n",
       "    }\n",
       "\n",
       "    .dataframe tbody tr th {\n",
       "        vertical-align: top;\n",
       "    }\n",
       "\n",
       "    .dataframe thead th {\n",
       "        text-align: right;\n",
       "    }\n",
       "</style>\n",
       "<table border=\"1\" class=\"dataframe\">\n",
       "  <thead>\n",
       "    <tr style=\"text-align: right;\">\n",
       "      <th></th>\n",
       "      <th>age</th>\n",
       "      <th>male</th>\n",
       "      <th>race</th>\n",
       "      <th>hrs_per_wk</th>\n",
       "      <th>wkswork</th>\n",
       "      <th>incwage</th>\n",
       "      <th>ed_lt_hs</th>\n",
       "      <th>ed_some_hs</th>\n",
       "      <th>ed_hs_degree</th>\n",
       "      <th>ed_some_col</th>\n",
       "      <th>ed_ba_degree</th>\n",
       "      <th>ed_post_degree</th>\n",
       "    </tr>\n",
       "  </thead>\n",
       "  <tbody>\n",
       "    <tr>\n",
       "      <th>0</th>\n",
       "      <td>48</td>\n",
       "      <td>1</td>\n",
       "      <td>white</td>\n",
       "      <td>NaN</td>\n",
       "      <td>49</td>\n",
       "      <td>1200.0</td>\n",
       "      <td>0</td>\n",
       "      <td>0</td>\n",
       "      <td>0</td>\n",
       "      <td>1</td>\n",
       "      <td>0</td>\n",
       "      <td>0</td>\n",
       "    </tr>\n",
       "    <tr>\n",
       "      <th>1</th>\n",
       "      <td>55</td>\n",
       "      <td>0</td>\n",
       "      <td>white</td>\n",
       "      <td>40.0</td>\n",
       "      <td>52</td>\n",
       "      <td>56000.0</td>\n",
       "      <td>0</td>\n",
       "      <td>0</td>\n",
       "      <td>0</td>\n",
       "      <td>0</td>\n",
       "      <td>0</td>\n",
       "      <td>1</td>\n",
       "    </tr>\n",
       "    <tr>\n",
       "      <th>2</th>\n",
       "      <td>52</td>\n",
       "      <td>1</td>\n",
       "      <td>white</td>\n",
       "      <td>NaN</td>\n",
       "      <td>52</td>\n",
       "      <td>0.0</td>\n",
       "      <td>1</td>\n",
       "      <td>0</td>\n",
       "      <td>0</td>\n",
       "      <td>0</td>\n",
       "      <td>0</td>\n",
       "      <td>0</td>\n",
       "    </tr>\n",
       "    <tr>\n",
       "      <th>3</th>\n",
       "      <td>55</td>\n",
       "      <td>0</td>\n",
       "      <td>white</td>\n",
       "      <td>NaN</td>\n",
       "      <td>52</td>\n",
       "      <td>0.0</td>\n",
       "      <td>1</td>\n",
       "      <td>0</td>\n",
       "      <td>0</td>\n",
       "      <td>0</td>\n",
       "      <td>0</td>\n",
       "      <td>0</td>\n",
       "    </tr>\n",
       "    <tr>\n",
       "      <th>4</th>\n",
       "      <td>58</td>\n",
       "      <td>0</td>\n",
       "      <td>white</td>\n",
       "      <td>20.0</td>\n",
       "      <td>52</td>\n",
       "      <td>5000.0</td>\n",
       "      <td>0</td>\n",
       "      <td>0</td>\n",
       "      <td>1</td>\n",
       "      <td>0</td>\n",
       "      <td>0</td>\n",
       "      <td>0</td>\n",
       "    </tr>\n",
       "    <tr>\n",
       "      <th>...</th>\n",
       "      <td>...</td>\n",
       "      <td>...</td>\n",
       "      <td>...</td>\n",
       "      <td>...</td>\n",
       "      <td>...</td>\n",
       "      <td>...</td>\n",
       "      <td>...</td>\n",
       "      <td>...</td>\n",
       "      <td>...</td>\n",
       "      <td>...</td>\n",
       "      <td>...</td>\n",
       "      <td>...</td>\n",
       "    </tr>\n",
       "    <tr>\n",
       "      <th>91923</th>\n",
       "      <td>42</td>\n",
       "      <td>1</td>\n",
       "      <td>asian/pacific</td>\n",
       "      <td>84.0</td>\n",
       "      <td>52</td>\n",
       "      <td>0.0</td>\n",
       "      <td>0</td>\n",
       "      <td>0</td>\n",
       "      <td>0</td>\n",
       "      <td>0</td>\n",
       "      <td>1</td>\n",
       "      <td>0</td>\n",
       "    </tr>\n",
       "    <tr>\n",
       "      <th>91924</th>\n",
       "      <td>56</td>\n",
       "      <td>1</td>\n",
       "      <td>asian/pacific</td>\n",
       "      <td>0.0</td>\n",
       "      <td>0</td>\n",
       "      <td>0.0</td>\n",
       "      <td>0</td>\n",
       "      <td>0</td>\n",
       "      <td>0</td>\n",
       "      <td>1</td>\n",
       "      <td>0</td>\n",
       "      <td>0</td>\n",
       "    </tr>\n",
       "    <tr>\n",
       "      <th>91925</th>\n",
       "      <td>36</td>\n",
       "      <td>0</td>\n",
       "      <td>asian/pacific</td>\n",
       "      <td>40.0</td>\n",
       "      <td>52</td>\n",
       "      <td>24000.0</td>\n",
       "      <td>0</td>\n",
       "      <td>0</td>\n",
       "      <td>0</td>\n",
       "      <td>1</td>\n",
       "      <td>0</td>\n",
       "      <td>0</td>\n",
       "    </tr>\n",
       "    <tr>\n",
       "      <th>91926</th>\n",
       "      <td>32</td>\n",
       "      <td>0</td>\n",
       "      <td>asian/pacific</td>\n",
       "      <td>56.0</td>\n",
       "      <td>52</td>\n",
       "      <td>24000.0</td>\n",
       "      <td>0</td>\n",
       "      <td>0</td>\n",
       "      <td>0</td>\n",
       "      <td>1</td>\n",
       "      <td>0</td>\n",
       "      <td>0</td>\n",
       "    </tr>\n",
       "    <tr>\n",
       "      <th>91927</th>\n",
       "      <td>35</td>\n",
       "      <td>0</td>\n",
       "      <td>multiple/other</td>\n",
       "      <td>39.0</td>\n",
       "      <td>32</td>\n",
       "      <td>4000.0</td>\n",
       "      <td>0</td>\n",
       "      <td>0</td>\n",
       "      <td>0</td>\n",
       "      <td>1</td>\n",
       "      <td>0</td>\n",
       "      <td>0</td>\n",
       "    </tr>\n",
       "  </tbody>\n",
       "</table>\n",
       "<p>91928 rows × 12 columns</p>\n",
       "</div>"
      ],
      "text/plain": [
       "       age  male            race  hrs_per_wk  wkswork  incwage  ed_lt_hs  \\\n",
       "0       48     1           white         NaN       49   1200.0         0   \n",
       "1       55     0           white        40.0       52  56000.0         0   \n",
       "2       52     1           white         NaN       52      0.0         1   \n",
       "3       55     0           white         NaN       52      0.0         1   \n",
       "4       58     0           white        20.0       52   5000.0         0   \n",
       "...    ...   ...             ...         ...      ...      ...       ...   \n",
       "91923   42     1   asian/pacific        84.0       52      0.0         0   \n",
       "91924   56     1   asian/pacific         0.0        0      0.0         0   \n",
       "91925   36     0   asian/pacific        40.0       52  24000.0         0   \n",
       "91926   32     0   asian/pacific        56.0       52  24000.0         0   \n",
       "91927   35     0  multiple/other        39.0       32   4000.0         0   \n",
       "\n",
       "       ed_some_hs  ed_hs_degree  ed_some_col  ed_ba_degree  ed_post_degree  \n",
       "0               0             0            1             0               0  \n",
       "1               0             0            0             0               1  \n",
       "2               0             0            0             0               0  \n",
       "3               0             0            0             0               0  \n",
       "4               0             1            0             0               0  \n",
       "...           ...           ...          ...           ...             ...  \n",
       "91923           0             0            0             1               0  \n",
       "91924           0             0            1             0               0  \n",
       "91925           0             0            1             0               0  \n",
       "91926           0             0            1             0               0  \n",
       "91927           0             0            1             0               0  \n",
       "\n",
       "[91928 rows x 12 columns]"
      ]
     },
     "execution_count": 2,
     "metadata": {},
     "output_type": "execute_result"
    }
   ],
   "source": [
    "# load in the dataset\n",
    "df = pd.read_csv('cps18.csv')\n",
    "df"
   ]
  },
  {
   "cell_type": "markdown",
   "metadata": {},
   "source": [
    "Below is the description of each of the column names in the dataset."
   ]
  },
  {
   "cell_type": "markdown",
   "metadata": {},
   "source": [
    "| Column Name    | Description                                   |\n",
    "|----------------|-----------------------------------------------|\n",
    "| age            | Age of the person                             |\n",
    "| male           | Gender where 1 is male and 0 is female        |\n",
    "| race           | Race of the person                            |\n",
    "| hrs_per_wk     | Hours per week person worked                  |\n",
    "| wkswork        | Weeks person works annually                   |\n",
    "| incwage        | Income wage of person                         |\n",
    "| ed_lt_hs       | Educational less than high school level       |\n",
    "| ed_some_hs     | Education of some high school level           |\n",
    "| ed_hs_degree   | High school degree education level            |\n",
    "| ed_some_col    | Some college level education                  |\n",
    "| ed_ba_degree   | Bachelor's degree                             |\n",
    "| ed_post_degree | Graduate school education level               |"
   ]
  },
  {
   "cell_type": "markdown",
   "metadata": {},
   "source": [
    "We see the column names printed out above. Age refers to the numerical age of the person. Column 'male' has value 1 if the person is male and 0 if female (and there are no other values). Race is a categorical variable describing the race group and background of the person. \"hrs_per_wk\" is the column describing how many hours the person works in a week and \"wkswork\" describes how many weeks the person works in a year. \"incwage\" is the salary rate the person gets paid. The rest of the columns, those that start with \"ed\" shows the level of education the person has completed and is one-hot encoded."
   ]
  },
  {
   "cell_type": "markdown",
   "metadata": {},
   "source": [
    "## Data Cleaning"
   ]
  },
  {
   "cell_type": "markdown",
   "metadata": {},
   "source": [
    "We will check if the educational columns are indeed one-hot encoded, meaning that each data observation row has a 1 in one of the 6 educational columns and 0 in the other five. This is important for data analysis as we want to make sure everything is consistently and logically labeled. For example, it would not make sense for a person to have both some high school education and less than high school education when other some high school education people have just some high school education marked in the columns."
   ]
  },
  {
   "cell_type": "code",
   "execution_count": 3,
   "metadata": {},
   "outputs": [
    {
     "data": {
      "text/plain": [
       "True"
      ]
     },
     "execution_count": 3,
     "metadata": {},
     "output_type": "execute_result"
    }
   ],
   "source": [
    "one_hot_columns = ['ed_lt_hs', 'ed_some_hs', 'ed_hs_degree', 'ed_some_col', 'ed_ba_degree', 'ed_post_degree']\n",
    "condition = (df[one_hot_columns].sum(axis=1) != 1) # check to see only one of them is 1 and the rest are 0\n",
    "df[condition].empty # True means all columns are correctly one-hot encoded"
   ]
  },
  {
   "cell_type": "markdown",
   "metadata": {},
   "source": [
    "We will binary-ize the educational degrees data: \"lower\" education made up of less than high school, some high school, and high school degrees; \"upper education made up of some college, bachelors, and graduate/post degrees. Essentially, a value of '0' would refer to people with a maximum education of high school graduate or less and a value '1' would refer to people with minimum college level education. \n",
    "\n",
    "This initial testing tests if more educational years is correlated with higher income wage. We binary-ized it to make testing easier."
   ]
  },
  {
   "cell_type": "code",
   "execution_count": 4,
   "metadata": {},
   "outputs": [
    {
     "data": {
      "text/html": [
       "<div>\n",
       "<style scoped>\n",
       "    .dataframe tbody tr th:only-of-type {\n",
       "        vertical-align: middle;\n",
       "    }\n",
       "\n",
       "    .dataframe tbody tr th {\n",
       "        vertical-align: top;\n",
       "    }\n",
       "\n",
       "    .dataframe thead th {\n",
       "        text-align: right;\n",
       "    }\n",
       "</style>\n",
       "<table border=\"1\" class=\"dataframe\">\n",
       "  <thead>\n",
       "    <tr style=\"text-align: right;\">\n",
       "      <th></th>\n",
       "      <th>age</th>\n",
       "      <th>male</th>\n",
       "      <th>race</th>\n",
       "      <th>hrs_per_wk</th>\n",
       "      <th>wkswork</th>\n",
       "      <th>incwage</th>\n",
       "      <th>ed_lt_hs</th>\n",
       "      <th>ed_some_hs</th>\n",
       "      <th>ed_hs_degree</th>\n",
       "      <th>ed_some_col</th>\n",
       "      <th>ed_ba_degree</th>\n",
       "      <th>ed_post_degree</th>\n",
       "      <th>higher_ed</th>\n",
       "    </tr>\n",
       "  </thead>\n",
       "  <tbody>\n",
       "    <tr>\n",
       "      <th>0</th>\n",
       "      <td>48</td>\n",
       "      <td>1</td>\n",
       "      <td>white</td>\n",
       "      <td>NaN</td>\n",
       "      <td>49</td>\n",
       "      <td>1200.0</td>\n",
       "      <td>0</td>\n",
       "      <td>0</td>\n",
       "      <td>0</td>\n",
       "      <td>1</td>\n",
       "      <td>0</td>\n",
       "      <td>0</td>\n",
       "      <td>1</td>\n",
       "    </tr>\n",
       "    <tr>\n",
       "      <th>1</th>\n",
       "      <td>55</td>\n",
       "      <td>0</td>\n",
       "      <td>white</td>\n",
       "      <td>40.0</td>\n",
       "      <td>52</td>\n",
       "      <td>56000.0</td>\n",
       "      <td>0</td>\n",
       "      <td>0</td>\n",
       "      <td>0</td>\n",
       "      <td>0</td>\n",
       "      <td>0</td>\n",
       "      <td>1</td>\n",
       "      <td>1</td>\n",
       "    </tr>\n",
       "    <tr>\n",
       "      <th>2</th>\n",
       "      <td>52</td>\n",
       "      <td>1</td>\n",
       "      <td>white</td>\n",
       "      <td>NaN</td>\n",
       "      <td>52</td>\n",
       "      <td>0.0</td>\n",
       "      <td>1</td>\n",
       "      <td>0</td>\n",
       "      <td>0</td>\n",
       "      <td>0</td>\n",
       "      <td>0</td>\n",
       "      <td>0</td>\n",
       "      <td>0</td>\n",
       "    </tr>\n",
       "    <tr>\n",
       "      <th>3</th>\n",
       "      <td>55</td>\n",
       "      <td>0</td>\n",
       "      <td>white</td>\n",
       "      <td>NaN</td>\n",
       "      <td>52</td>\n",
       "      <td>0.0</td>\n",
       "      <td>1</td>\n",
       "      <td>0</td>\n",
       "      <td>0</td>\n",
       "      <td>0</td>\n",
       "      <td>0</td>\n",
       "      <td>0</td>\n",
       "      <td>0</td>\n",
       "    </tr>\n",
       "    <tr>\n",
       "      <th>4</th>\n",
       "      <td>58</td>\n",
       "      <td>0</td>\n",
       "      <td>white</td>\n",
       "      <td>20.0</td>\n",
       "      <td>52</td>\n",
       "      <td>5000.0</td>\n",
       "      <td>0</td>\n",
       "      <td>0</td>\n",
       "      <td>1</td>\n",
       "      <td>0</td>\n",
       "      <td>0</td>\n",
       "      <td>0</td>\n",
       "      <td>0</td>\n",
       "    </tr>\n",
       "    <tr>\n",
       "      <th>...</th>\n",
       "      <td>...</td>\n",
       "      <td>...</td>\n",
       "      <td>...</td>\n",
       "      <td>...</td>\n",
       "      <td>...</td>\n",
       "      <td>...</td>\n",
       "      <td>...</td>\n",
       "      <td>...</td>\n",
       "      <td>...</td>\n",
       "      <td>...</td>\n",
       "      <td>...</td>\n",
       "      <td>...</td>\n",
       "      <td>...</td>\n",
       "    </tr>\n",
       "    <tr>\n",
       "      <th>91923</th>\n",
       "      <td>42</td>\n",
       "      <td>1</td>\n",
       "      <td>asian/pacific</td>\n",
       "      <td>84.0</td>\n",
       "      <td>52</td>\n",
       "      <td>0.0</td>\n",
       "      <td>0</td>\n",
       "      <td>0</td>\n",
       "      <td>0</td>\n",
       "      <td>0</td>\n",
       "      <td>1</td>\n",
       "      <td>0</td>\n",
       "      <td>1</td>\n",
       "    </tr>\n",
       "    <tr>\n",
       "      <th>91924</th>\n",
       "      <td>56</td>\n",
       "      <td>1</td>\n",
       "      <td>asian/pacific</td>\n",
       "      <td>0.0</td>\n",
       "      <td>0</td>\n",
       "      <td>0.0</td>\n",
       "      <td>0</td>\n",
       "      <td>0</td>\n",
       "      <td>0</td>\n",
       "      <td>1</td>\n",
       "      <td>0</td>\n",
       "      <td>0</td>\n",
       "      <td>1</td>\n",
       "    </tr>\n",
       "    <tr>\n",
       "      <th>91925</th>\n",
       "      <td>36</td>\n",
       "      <td>0</td>\n",
       "      <td>asian/pacific</td>\n",
       "      <td>40.0</td>\n",
       "      <td>52</td>\n",
       "      <td>24000.0</td>\n",
       "      <td>0</td>\n",
       "      <td>0</td>\n",
       "      <td>0</td>\n",
       "      <td>1</td>\n",
       "      <td>0</td>\n",
       "      <td>0</td>\n",
       "      <td>1</td>\n",
       "    </tr>\n",
       "    <tr>\n",
       "      <th>91926</th>\n",
       "      <td>32</td>\n",
       "      <td>0</td>\n",
       "      <td>asian/pacific</td>\n",
       "      <td>56.0</td>\n",
       "      <td>52</td>\n",
       "      <td>24000.0</td>\n",
       "      <td>0</td>\n",
       "      <td>0</td>\n",
       "      <td>0</td>\n",
       "      <td>1</td>\n",
       "      <td>0</td>\n",
       "      <td>0</td>\n",
       "      <td>1</td>\n",
       "    </tr>\n",
       "    <tr>\n",
       "      <th>91927</th>\n",
       "      <td>35</td>\n",
       "      <td>0</td>\n",
       "      <td>multiple/other</td>\n",
       "      <td>39.0</td>\n",
       "      <td>32</td>\n",
       "      <td>4000.0</td>\n",
       "      <td>0</td>\n",
       "      <td>0</td>\n",
       "      <td>0</td>\n",
       "      <td>1</td>\n",
       "      <td>0</td>\n",
       "      <td>0</td>\n",
       "      <td>1</td>\n",
       "    </tr>\n",
       "  </tbody>\n",
       "</table>\n",
       "<p>91928 rows × 13 columns</p>\n",
       "</div>"
      ],
      "text/plain": [
       "       age  male            race  hrs_per_wk  wkswork  incwage  ed_lt_hs  \\\n",
       "0       48     1           white         NaN       49   1200.0         0   \n",
       "1       55     0           white        40.0       52  56000.0         0   \n",
       "2       52     1           white         NaN       52      0.0         1   \n",
       "3       55     0           white         NaN       52      0.0         1   \n",
       "4       58     0           white        20.0       52   5000.0         0   \n",
       "...    ...   ...             ...         ...      ...      ...       ...   \n",
       "91923   42     1   asian/pacific        84.0       52      0.0         0   \n",
       "91924   56     1   asian/pacific         0.0        0      0.0         0   \n",
       "91925   36     0   asian/pacific        40.0       52  24000.0         0   \n",
       "91926   32     0   asian/pacific        56.0       52  24000.0         0   \n",
       "91927   35     0  multiple/other        39.0       32   4000.0         0   \n",
       "\n",
       "       ed_some_hs  ed_hs_degree  ed_some_col  ed_ba_degree  ed_post_degree  \\\n",
       "0               0             0            1             0               0   \n",
       "1               0             0            0             0               1   \n",
       "2               0             0            0             0               0   \n",
       "3               0             0            0             0               0   \n",
       "4               0             1            0             0               0   \n",
       "...           ...           ...          ...           ...             ...   \n",
       "91923           0             0            0             1               0   \n",
       "91924           0             0            1             0               0   \n",
       "91925           0             0            1             0               0   \n",
       "91926           0             0            1             0               0   \n",
       "91927           0             0            1             0               0   \n",
       "\n",
       "       higher_ed  \n",
       "0              1  \n",
       "1              1  \n",
       "2              0  \n",
       "3              0  \n",
       "4              0  \n",
       "...          ...  \n",
       "91923          1  \n",
       "91924          1  \n",
       "91925          1  \n",
       "91926          1  \n",
       "91927          1  \n",
       "\n",
       "[91928 rows x 13 columns]"
      ]
     },
     "execution_count": 4,
     "metadata": {},
     "output_type": "execute_result"
    }
   ],
   "source": [
    "# sepearate into lower education degrees (first three) and higher education degrees (last three)\n",
    "# new column will have 0 for lower education degrees and 1 for higher education degrees\n",
    "df['higher_ed'] = df['ed_some_col'] | df['ed_ba_degree'] | df['ed_post_degree']\n",
    "df"
   ]
  },
  {
   "cell_type": "markdown",
   "metadata": {},
   "source": [
    "Due to the fact some results are missing or incoherent in hrs_per_wk and wkswork columns, we will procede to delete them. We will utilize other variables to fill in for the missing information here."
   ]
  },
  {
   "cell_type": "code",
   "execution_count": 5,
   "metadata": {},
   "outputs": [
    {
     "data": {
      "text/html": [
       "<div>\n",
       "<style scoped>\n",
       "    .dataframe tbody tr th:only-of-type {\n",
       "        vertical-align: middle;\n",
       "    }\n",
       "\n",
       "    .dataframe tbody tr th {\n",
       "        vertical-align: top;\n",
       "    }\n",
       "\n",
       "    .dataframe thead th {\n",
       "        text-align: right;\n",
       "    }\n",
       "</style>\n",
       "<table border=\"1\" class=\"dataframe\">\n",
       "  <thead>\n",
       "    <tr style=\"text-align: right;\">\n",
       "      <th></th>\n",
       "      <th>age</th>\n",
       "      <th>male</th>\n",
       "      <th>race</th>\n",
       "      <th>incwage</th>\n",
       "      <th>ed_lt_hs</th>\n",
       "      <th>ed_some_hs</th>\n",
       "      <th>ed_hs_degree</th>\n",
       "      <th>ed_some_col</th>\n",
       "      <th>ed_ba_degree</th>\n",
       "      <th>ed_post_degree</th>\n",
       "      <th>higher_ed</th>\n",
       "    </tr>\n",
       "  </thead>\n",
       "  <tbody>\n",
       "    <tr>\n",
       "      <th>0</th>\n",
       "      <td>48</td>\n",
       "      <td>1</td>\n",
       "      <td>white</td>\n",
       "      <td>1200.0</td>\n",
       "      <td>0</td>\n",
       "      <td>0</td>\n",
       "      <td>0</td>\n",
       "      <td>1</td>\n",
       "      <td>0</td>\n",
       "      <td>0</td>\n",
       "      <td>1</td>\n",
       "    </tr>\n",
       "    <tr>\n",
       "      <th>1</th>\n",
       "      <td>55</td>\n",
       "      <td>0</td>\n",
       "      <td>white</td>\n",
       "      <td>56000.0</td>\n",
       "      <td>0</td>\n",
       "      <td>0</td>\n",
       "      <td>0</td>\n",
       "      <td>0</td>\n",
       "      <td>0</td>\n",
       "      <td>1</td>\n",
       "      <td>1</td>\n",
       "    </tr>\n",
       "    <tr>\n",
       "      <th>2</th>\n",
       "      <td>52</td>\n",
       "      <td>1</td>\n",
       "      <td>white</td>\n",
       "      <td>0.0</td>\n",
       "      <td>1</td>\n",
       "      <td>0</td>\n",
       "      <td>0</td>\n",
       "      <td>0</td>\n",
       "      <td>0</td>\n",
       "      <td>0</td>\n",
       "      <td>0</td>\n",
       "    </tr>\n",
       "    <tr>\n",
       "      <th>3</th>\n",
       "      <td>55</td>\n",
       "      <td>0</td>\n",
       "      <td>white</td>\n",
       "      <td>0.0</td>\n",
       "      <td>1</td>\n",
       "      <td>0</td>\n",
       "      <td>0</td>\n",
       "      <td>0</td>\n",
       "      <td>0</td>\n",
       "      <td>0</td>\n",
       "      <td>0</td>\n",
       "    </tr>\n",
       "    <tr>\n",
       "      <th>4</th>\n",
       "      <td>58</td>\n",
       "      <td>0</td>\n",
       "      <td>white</td>\n",
       "      <td>5000.0</td>\n",
       "      <td>0</td>\n",
       "      <td>0</td>\n",
       "      <td>1</td>\n",
       "      <td>0</td>\n",
       "      <td>0</td>\n",
       "      <td>0</td>\n",
       "      <td>0</td>\n",
       "    </tr>\n",
       "    <tr>\n",
       "      <th>...</th>\n",
       "      <td>...</td>\n",
       "      <td>...</td>\n",
       "      <td>...</td>\n",
       "      <td>...</td>\n",
       "      <td>...</td>\n",
       "      <td>...</td>\n",
       "      <td>...</td>\n",
       "      <td>...</td>\n",
       "      <td>...</td>\n",
       "      <td>...</td>\n",
       "      <td>...</td>\n",
       "    </tr>\n",
       "    <tr>\n",
       "      <th>91923</th>\n",
       "      <td>42</td>\n",
       "      <td>1</td>\n",
       "      <td>asian/pacific</td>\n",
       "      <td>0.0</td>\n",
       "      <td>0</td>\n",
       "      <td>0</td>\n",
       "      <td>0</td>\n",
       "      <td>0</td>\n",
       "      <td>1</td>\n",
       "      <td>0</td>\n",
       "      <td>1</td>\n",
       "    </tr>\n",
       "    <tr>\n",
       "      <th>91924</th>\n",
       "      <td>56</td>\n",
       "      <td>1</td>\n",
       "      <td>asian/pacific</td>\n",
       "      <td>0.0</td>\n",
       "      <td>0</td>\n",
       "      <td>0</td>\n",
       "      <td>0</td>\n",
       "      <td>1</td>\n",
       "      <td>0</td>\n",
       "      <td>0</td>\n",
       "      <td>1</td>\n",
       "    </tr>\n",
       "    <tr>\n",
       "      <th>91925</th>\n",
       "      <td>36</td>\n",
       "      <td>0</td>\n",
       "      <td>asian/pacific</td>\n",
       "      <td>24000.0</td>\n",
       "      <td>0</td>\n",
       "      <td>0</td>\n",
       "      <td>0</td>\n",
       "      <td>1</td>\n",
       "      <td>0</td>\n",
       "      <td>0</td>\n",
       "      <td>1</td>\n",
       "    </tr>\n",
       "    <tr>\n",
       "      <th>91926</th>\n",
       "      <td>32</td>\n",
       "      <td>0</td>\n",
       "      <td>asian/pacific</td>\n",
       "      <td>24000.0</td>\n",
       "      <td>0</td>\n",
       "      <td>0</td>\n",
       "      <td>0</td>\n",
       "      <td>1</td>\n",
       "      <td>0</td>\n",
       "      <td>0</td>\n",
       "      <td>1</td>\n",
       "    </tr>\n",
       "    <tr>\n",
       "      <th>91927</th>\n",
       "      <td>35</td>\n",
       "      <td>0</td>\n",
       "      <td>multiple/other</td>\n",
       "      <td>4000.0</td>\n",
       "      <td>0</td>\n",
       "      <td>0</td>\n",
       "      <td>0</td>\n",
       "      <td>1</td>\n",
       "      <td>0</td>\n",
       "      <td>0</td>\n",
       "      <td>1</td>\n",
       "    </tr>\n",
       "  </tbody>\n",
       "</table>\n",
       "<p>91928 rows × 11 columns</p>\n",
       "</div>"
      ],
      "text/plain": [
       "       age  male            race  incwage  ed_lt_hs  ed_some_hs  ed_hs_degree  \\\n",
       "0       48     1           white   1200.0         0           0             0   \n",
       "1       55     0           white  56000.0         0           0             0   \n",
       "2       52     1           white      0.0         1           0             0   \n",
       "3       55     0           white      0.0         1           0             0   \n",
       "4       58     0           white   5000.0         0           0             1   \n",
       "...    ...   ...             ...      ...       ...         ...           ...   \n",
       "91923   42     1   asian/pacific      0.0         0           0             0   \n",
       "91924   56     1   asian/pacific      0.0         0           0             0   \n",
       "91925   36     0   asian/pacific  24000.0         0           0             0   \n",
       "91926   32     0   asian/pacific  24000.0         0           0             0   \n",
       "91927   35     0  multiple/other   4000.0         0           0             0   \n",
       "\n",
       "       ed_some_col  ed_ba_degree  ed_post_degree  higher_ed  \n",
       "0                1             0               0          1  \n",
       "1                0             0               1          1  \n",
       "2                0             0               0          0  \n",
       "3                0             0               0          0  \n",
       "4                0             0               0          0  \n",
       "...            ...           ...             ...        ...  \n",
       "91923            0             1               0          1  \n",
       "91924            1             0               0          1  \n",
       "91925            1             0               0          1  \n",
       "91926            1             0               0          1  \n",
       "91927            1             0               0          1  \n",
       "\n",
       "[91928 rows x 11 columns]"
      ]
     },
     "execution_count": 5,
     "metadata": {},
     "output_type": "execute_result"
    }
   ],
   "source": [
    "df = df.drop(columns=['hrs_per_wk', 'wkswork']) # delete these columns\n",
    "df"
   ]
  },
  {
   "cell_type": "markdown",
   "metadata": {},
   "source": [
    "We also need a one-hot encoded version of the race, which is a categorical variable. This will help with the future regression analysis.\n",
    "\n",
    "We add it into our data table for use."
   ]
  },
  {
   "cell_type": "code",
   "execution_count": 6,
   "metadata": {},
   "outputs": [
    {
     "data": {
      "text/html": [
       "<div>\n",
       "<style scoped>\n",
       "    .dataframe tbody tr th:only-of-type {\n",
       "        vertical-align: middle;\n",
       "    }\n",
       "\n",
       "    .dataframe tbody tr th {\n",
       "        vertical-align: top;\n",
       "    }\n",
       "\n",
       "    .dataframe thead th {\n",
       "        text-align: right;\n",
       "    }\n",
       "</style>\n",
       "<table border=\"1\" class=\"dataframe\">\n",
       "  <thead>\n",
       "    <tr style=\"text-align: right;\">\n",
       "      <th></th>\n",
       "      <th>age</th>\n",
       "      <th>male</th>\n",
       "      <th>race</th>\n",
       "      <th>incwage</th>\n",
       "      <th>ed_lt_hs</th>\n",
       "      <th>ed_some_hs</th>\n",
       "      <th>ed_hs_degree</th>\n",
       "      <th>ed_some_col</th>\n",
       "      <th>ed_ba_degree</th>\n",
       "      <th>ed_post_degree</th>\n",
       "      <th>higher_ed</th>\n",
       "      <th>race_asian/pacific</th>\n",
       "      <th>race_black</th>\n",
       "      <th>race_multiple/other</th>\n",
       "      <th>race_native</th>\n",
       "      <th>race_white</th>\n",
       "    </tr>\n",
       "  </thead>\n",
       "  <tbody>\n",
       "    <tr>\n",
       "      <th>0</th>\n",
       "      <td>48</td>\n",
       "      <td>1</td>\n",
       "      <td>white</td>\n",
       "      <td>1200.0</td>\n",
       "      <td>0</td>\n",
       "      <td>0</td>\n",
       "      <td>0</td>\n",
       "      <td>1</td>\n",
       "      <td>0</td>\n",
       "      <td>0</td>\n",
       "      <td>1</td>\n",
       "      <td>0</td>\n",
       "      <td>0</td>\n",
       "      <td>0</td>\n",
       "      <td>0</td>\n",
       "      <td>1</td>\n",
       "    </tr>\n",
       "    <tr>\n",
       "      <th>1</th>\n",
       "      <td>55</td>\n",
       "      <td>0</td>\n",
       "      <td>white</td>\n",
       "      <td>56000.0</td>\n",
       "      <td>0</td>\n",
       "      <td>0</td>\n",
       "      <td>0</td>\n",
       "      <td>0</td>\n",
       "      <td>0</td>\n",
       "      <td>1</td>\n",
       "      <td>1</td>\n",
       "      <td>0</td>\n",
       "      <td>0</td>\n",
       "      <td>0</td>\n",
       "      <td>0</td>\n",
       "      <td>1</td>\n",
       "    </tr>\n",
       "    <tr>\n",
       "      <th>2</th>\n",
       "      <td>52</td>\n",
       "      <td>1</td>\n",
       "      <td>white</td>\n",
       "      <td>0.0</td>\n",
       "      <td>1</td>\n",
       "      <td>0</td>\n",
       "      <td>0</td>\n",
       "      <td>0</td>\n",
       "      <td>0</td>\n",
       "      <td>0</td>\n",
       "      <td>0</td>\n",
       "      <td>0</td>\n",
       "      <td>0</td>\n",
       "      <td>0</td>\n",
       "      <td>0</td>\n",
       "      <td>1</td>\n",
       "    </tr>\n",
       "    <tr>\n",
       "      <th>3</th>\n",
       "      <td>55</td>\n",
       "      <td>0</td>\n",
       "      <td>white</td>\n",
       "      <td>0.0</td>\n",
       "      <td>1</td>\n",
       "      <td>0</td>\n",
       "      <td>0</td>\n",
       "      <td>0</td>\n",
       "      <td>0</td>\n",
       "      <td>0</td>\n",
       "      <td>0</td>\n",
       "      <td>0</td>\n",
       "      <td>0</td>\n",
       "      <td>0</td>\n",
       "      <td>0</td>\n",
       "      <td>1</td>\n",
       "    </tr>\n",
       "    <tr>\n",
       "      <th>4</th>\n",
       "      <td>58</td>\n",
       "      <td>0</td>\n",
       "      <td>white</td>\n",
       "      <td>5000.0</td>\n",
       "      <td>0</td>\n",
       "      <td>0</td>\n",
       "      <td>1</td>\n",
       "      <td>0</td>\n",
       "      <td>0</td>\n",
       "      <td>0</td>\n",
       "      <td>0</td>\n",
       "      <td>0</td>\n",
       "      <td>0</td>\n",
       "      <td>0</td>\n",
       "      <td>0</td>\n",
       "      <td>1</td>\n",
       "    </tr>\n",
       "    <tr>\n",
       "      <th>...</th>\n",
       "      <td>...</td>\n",
       "      <td>...</td>\n",
       "      <td>...</td>\n",
       "      <td>...</td>\n",
       "      <td>...</td>\n",
       "      <td>...</td>\n",
       "      <td>...</td>\n",
       "      <td>...</td>\n",
       "      <td>...</td>\n",
       "      <td>...</td>\n",
       "      <td>...</td>\n",
       "      <td>...</td>\n",
       "      <td>...</td>\n",
       "      <td>...</td>\n",
       "      <td>...</td>\n",
       "      <td>...</td>\n",
       "    </tr>\n",
       "    <tr>\n",
       "      <th>91923</th>\n",
       "      <td>42</td>\n",
       "      <td>1</td>\n",
       "      <td>asian/pacific</td>\n",
       "      <td>0.0</td>\n",
       "      <td>0</td>\n",
       "      <td>0</td>\n",
       "      <td>0</td>\n",
       "      <td>0</td>\n",
       "      <td>1</td>\n",
       "      <td>0</td>\n",
       "      <td>1</td>\n",
       "      <td>1</td>\n",
       "      <td>0</td>\n",
       "      <td>0</td>\n",
       "      <td>0</td>\n",
       "      <td>0</td>\n",
       "    </tr>\n",
       "    <tr>\n",
       "      <th>91924</th>\n",
       "      <td>56</td>\n",
       "      <td>1</td>\n",
       "      <td>asian/pacific</td>\n",
       "      <td>0.0</td>\n",
       "      <td>0</td>\n",
       "      <td>0</td>\n",
       "      <td>0</td>\n",
       "      <td>1</td>\n",
       "      <td>0</td>\n",
       "      <td>0</td>\n",
       "      <td>1</td>\n",
       "      <td>1</td>\n",
       "      <td>0</td>\n",
       "      <td>0</td>\n",
       "      <td>0</td>\n",
       "      <td>0</td>\n",
       "    </tr>\n",
       "    <tr>\n",
       "      <th>91925</th>\n",
       "      <td>36</td>\n",
       "      <td>0</td>\n",
       "      <td>asian/pacific</td>\n",
       "      <td>24000.0</td>\n",
       "      <td>0</td>\n",
       "      <td>0</td>\n",
       "      <td>0</td>\n",
       "      <td>1</td>\n",
       "      <td>0</td>\n",
       "      <td>0</td>\n",
       "      <td>1</td>\n",
       "      <td>1</td>\n",
       "      <td>0</td>\n",
       "      <td>0</td>\n",
       "      <td>0</td>\n",
       "      <td>0</td>\n",
       "    </tr>\n",
       "    <tr>\n",
       "      <th>91926</th>\n",
       "      <td>32</td>\n",
       "      <td>0</td>\n",
       "      <td>asian/pacific</td>\n",
       "      <td>24000.0</td>\n",
       "      <td>0</td>\n",
       "      <td>0</td>\n",
       "      <td>0</td>\n",
       "      <td>1</td>\n",
       "      <td>0</td>\n",
       "      <td>0</td>\n",
       "      <td>1</td>\n",
       "      <td>1</td>\n",
       "      <td>0</td>\n",
       "      <td>0</td>\n",
       "      <td>0</td>\n",
       "      <td>0</td>\n",
       "    </tr>\n",
       "    <tr>\n",
       "      <th>91927</th>\n",
       "      <td>35</td>\n",
       "      <td>0</td>\n",
       "      <td>multiple/other</td>\n",
       "      <td>4000.0</td>\n",
       "      <td>0</td>\n",
       "      <td>0</td>\n",
       "      <td>0</td>\n",
       "      <td>1</td>\n",
       "      <td>0</td>\n",
       "      <td>0</td>\n",
       "      <td>1</td>\n",
       "      <td>0</td>\n",
       "      <td>0</td>\n",
       "      <td>1</td>\n",
       "      <td>0</td>\n",
       "      <td>0</td>\n",
       "    </tr>\n",
       "  </tbody>\n",
       "</table>\n",
       "<p>91928 rows × 16 columns</p>\n",
       "</div>"
      ],
      "text/plain": [
       "       age  male            race  incwage  ed_lt_hs  ed_some_hs  ed_hs_degree  \\\n",
       "0       48     1           white   1200.0         0           0             0   \n",
       "1       55     0           white  56000.0         0           0             0   \n",
       "2       52     1           white      0.0         1           0             0   \n",
       "3       55     0           white      0.0         1           0             0   \n",
       "4       58     0           white   5000.0         0           0             1   \n",
       "...    ...   ...             ...      ...       ...         ...           ...   \n",
       "91923   42     1   asian/pacific      0.0         0           0             0   \n",
       "91924   56     1   asian/pacific      0.0         0           0             0   \n",
       "91925   36     0   asian/pacific  24000.0         0           0             0   \n",
       "91926   32     0   asian/pacific  24000.0         0           0             0   \n",
       "91927   35     0  multiple/other   4000.0         0           0             0   \n",
       "\n",
       "       ed_some_col  ed_ba_degree  ed_post_degree  higher_ed  \\\n",
       "0                1             0               0          1   \n",
       "1                0             0               1          1   \n",
       "2                0             0               0          0   \n",
       "3                0             0               0          0   \n",
       "4                0             0               0          0   \n",
       "...            ...           ...             ...        ...   \n",
       "91923            0             1               0          1   \n",
       "91924            1             0               0          1   \n",
       "91925            1             0               0          1   \n",
       "91926            1             0               0          1   \n",
       "91927            1             0               0          1   \n",
       "\n",
       "       race_asian/pacific  race_black  race_multiple/other  race_native  \\\n",
       "0                       0           0                    0            0   \n",
       "1                       0           0                    0            0   \n",
       "2                       0           0                    0            0   \n",
       "3                       0           0                    0            0   \n",
       "4                       0           0                    0            0   \n",
       "...                   ...         ...                  ...          ...   \n",
       "91923                   1           0                    0            0   \n",
       "91924                   1           0                    0            0   \n",
       "91925                   1           0                    0            0   \n",
       "91926                   1           0                    0            0   \n",
       "91927                   0           0                    1            0   \n",
       "\n",
       "       race_white  \n",
       "0               1  \n",
       "1               1  \n",
       "2               1  \n",
       "3               1  \n",
       "4               1  \n",
       "...           ...  \n",
       "91923           0  \n",
       "91924           0  \n",
       "91925           0  \n",
       "91926           0  \n",
       "91927           0  \n",
       "\n",
       "[91928 rows x 16 columns]"
      ]
     },
     "execution_count": 6,
     "metadata": {},
     "output_type": "execute_result"
    }
   ],
   "source": [
    "race_dummies = pd.get_dummies(df['race'], prefix='race')\n",
    "df = pd.concat([df, race_dummies], axis=1)\n",
    "bool_columns = df.select_dtypes(include=['bool']).columns\n",
    "df[bool_columns] = df[bool_columns].astype(int)\n",
    "df"
   ]
  },
  {
   "cell_type": "markdown",
   "metadata": {},
   "source": [
    "Now, our data is cleaned and ready to use for further analysis and visualization."
   ]
  },
  {
   "cell_type": "markdown",
   "metadata": {},
   "source": [
    "# Results\n",
    "\n",
    "## Exploratory Data Analysis and Visualization"
   ]
  },
  {
   "cell_type": "markdown",
   "metadata": {},
   "source": [
    "We will first plot a histogram of people's income wages in the dataset to see what the overall distribution is like."
   ]
  },
  {
   "cell_type": "code",
   "execution_count": 7,
   "metadata": {},
   "outputs": [
    {
     "data": {
      "image/png": "[encoded data removed]",
      "text/plain": [
       "<Figure size 720x432 with 1 Axes>"
      ]
     },
     "metadata": {
      "needs_background": "light"
     },
     "output_type": "display_data"
    }
   ],
   "source": [
    "# Plot histogram to visualize wages of all the people in the dataset\n",
    "plt.figure(figsize=(10, 6))\n",
    "plt.hist(df['incwage'], bins=50, edgecolor='k')\n",
    "plt.title('Histogram of Income Wage')\n",
    "plt.xlabel('Income Wage')\n",
    "plt.ylabel('Frequency')\n",
    "plt.grid(True)\n",
    "plt.show()"
   ]
  },
  {
   "cell_type": "markdown",
   "metadata": {},
   "source": [
    "We note that there are quite a few outliers, mostly those that have incredibly large wages compared to the rest of the people in the dataset, which is quite consistent with the understanding of the distriubtion of people's incomes throughout the world. However, we may want to see the distribution more clearly where there are many more data points."
   ]
  },
  {
   "cell_type": "code",
   "execution_count": 8,
   "metadata": {},
   "outputs": [
    {
     "data": {
      "image/png": "[encoded data removed]",
      "text/plain": [
       "<Figure size 720x432 with 1 Axes>"
      ]
     },
     "metadata": {
      "needs_background": "light"
     },
     "output_type": "display_data"
    }
   ],
   "source": [
    "# Calculate Q1, Q3, and IQR\n",
    "Q1 = df['incwage'].quantile(0.25)\n",
    "Q3 = df['incwage'].quantile(0.75)\n",
    "IQR = Q3 - Q1\n",
    "\n",
    "# Filter out outliers\n",
    "filtered_df = df[(df['incwage'] > (Q1 - 1.5 * IQR)) & (df['incwage'] < (Q3 + 1.5 * IQR))]\n",
    "\n",
    "# Plot histogram without outliers\n",
    "plt.figure(figsize=(10, 6))\n",
    "plt.hist(filtered_df['incwage'], bins=50, edgecolor='k')\n",
    "plt.title('Histogram of Income Wage Excluding Outliers')\n",
    "plt.xlabel('Income Wage')\n",
    "plt.ylabel('Frequency')\n",
    "plt.grid(True)\n",
    "plt.show()"
   ]
  },
  {
   "cell_type": "markdown",
   "metadata": {},
   "source": [
    "As shown above, there seems to be excessively a lot of data points in the lowest bin in the histogram. The wage with the highest frequency bar seems to be the one of the lowest wages. This refers to a plethora of participants that may still be unemployed, which makes sense if they have recently graduated and have not secured a job yet.\n",
    "\n",
    "Next, we will see the average income wages for each level of education in the dataset."
   ]
  },
  {
   "cell_type": "code",
   "execution_count": 9,
   "metadata": {},
   "outputs": [
    {
     "data": {
      "image/png": "[encoded data removed]",
      "text/plain": [
       "<Figure size 720x432 with 1 Axes>"
      ]
     },
     "metadata": {
      "needs_background": "light"
     },
     "output_type": "display_data"
    }
   ],
   "source": [
    "# Get the average income in the dataset for each education level\n",
    "# Store result in a dictionary to use for bar graph\n",
    "average_inc_wage = {}\n",
    "for col in one_hot_columns:\n",
    "    average = df[df[col] == 1]['incwage'].mean()\n",
    "    average_inc_wage[col] = average\n",
    "\n",
    "# Convert dictionary into pandas DataFrame to use in graph\n",
    "average_inc_wage_series = pd.Series(average_inc_wage)\n",
    "\n",
    "# Graph the average income wage for each educational level\n",
    "plt.figure(figsize=(10, 6))\n",
    "average_inc_wage_series.plot(kind='bar', color='skyblue', edgecolor='black')\n",
    "plt.title('Average Wage for Each Level of Education Achieved')\n",
    "plt.xlabel('Education Degree Levels')\n",
    "plt.ylabel('Average Income Wage')\n",
    "plt.xticks(rotation=0)\n",
    "plt.grid(axis='y')\n",
    "plt.show()"
   ]
  },
  {
   "cell_type": "markdown",
   "metadata": {},
   "source": [
    "The graph indicates a correlation between education degree achieved and average wage of the people who have achieved that degree. The categorical variable is shown in increasing order of educational degree levels, from less than high school to post bachelor's degree, and we see that the average income wage is monotonically increasing over it. This suggests the correlation between education degree and average income wage.\n",
    "\n",
    "Now that we proved that the level of an education degree does impact average income wage, we will determine if other factors contribute to this relationship as well. We will compare race, age, and gender with income, and if there are any discrepancies -- an evident contrast - we can first conclude that an external factor can effect one's wage. Then, we can procede to see if its effect is siginificant enough to skew the direct correlation between education degree and average income wage.\n",
    "\n",
    "First, we will see the average income wage for each race category in the dataset. This determines if there is discrepancies on income wages across different races."
   ]
  },
  {
   "cell_type": "code",
   "execution_count": 10,
   "metadata": {},
   "outputs": [
    {
     "data": {
      "image/png": "[encoded data removed]",
      "text/plain": [
       "<Figure size 720x432 with 1 Axes>"
      ]
     },
     "metadata": {
      "needs_background": "light"
     },
     "output_type": "display_data"
    }
   ],
   "source": [
    "# Plot the average wage of people by race\n",
    "average_incwage_by_race = df.groupby('race')['incwage'].mean()\n",
    "\n",
    "plt.figure(figsize=(10, 6))\n",
    "average_incwage_by_race.plot(kind='bar', color='lightgreen', edgecolor='black')\n",
    "plt.title('Average Income Wage by Race')\n",
    "plt.xlabel('Race')\n",
    "plt.ylabel('Average Income Wage')\n",
    "plt.xticks(rotation=0)\n",
    "plt.grid(axis='y')\n",
    "plt.show()"
   ]
  },
  {
   "cell_type": "markdown",
   "metadata": {},
   "source": [
    "This suggests that there are some discrepancies between the races in terms of average income wage. We will need to account for this when doing the data analysis in the future, to determine if different racial compositions of people who have gotten certain education levels is the real cause of the correlation between education levels and average income.\n",
    "\n",
    "Next we will examine the average income wages across different ages."
   ]
  },
  {
   "cell_type": "code",
   "execution_count": 11,
   "metadata": {},
   "outputs": [
    {
     "data": {
      "image/png": "[encoded data removed]",
      "text/plain": [
       "<Figure size 864x432 with 1 Axes>"
      ]
     },
     "metadata": {
      "needs_background": "light"
     },
     "output_type": "display_data"
    }
   ],
   "source": [
    "# Plot the average incomes of people by age (with age range of +-0 of each point)\n",
    "interval = 0\n",
    "unique_ages = sorted(df['age'].unique())\n",
    "avg_income_by_age_range = []\n",
    "\n",
    "for age in range(min(unique_ages), max(unique_ages) + 1):\n",
    "    mask = (df['age'] >= age - interval) & (df['age'] <= age + interval)\n",
    "    avg_income = df.loc[mask, 'incwage'].mean()\n",
    "    avg_income_by_age_range.append(avg_income)\n",
    "    \n",
    "    \n",
    "plt.figure(figsize=(12, 6))\n",
    "plt.plot(range(min(unique_ages), max(unique_ages) + 1), avg_income_by_age_range, marker='o', linestyle='-', color='blue')\n",
    "plt.title('Average Income by Age')\n",
    "plt.xlabel('Age')\n",
    "plt.ylabel('Average Income')\n",
    "plt.grid(True)\n",
    "plt.show()"
   ]
  },
  {
   "cell_type": "markdown",
   "metadata": {},
   "source": [
    "The average income wage for each age is different and follows a quandratic, parabolic distribution. There is a correlation between age and average income wage which means we will also have to account for this in future analysis as there may be more people in a certain age group (eg. 40 to 50) who received a certain education level that may skew the average income for different education levels.\n",
    "\n",
    "And finally, we will examine the average income wages by gender, the last other variable that may affect the average income levels."
   ]
  },
  {
   "cell_type": "code",
   "execution_count": 12,
   "metadata": {},
   "outputs": [
    {
     "data": {
      "image/png": "[encoded data removed]",
      "text/plain": [
       "<Figure size 720x432 with 1 Axes>"
      ]
     },
     "metadata": {
      "needs_background": "light"
     },
     "output_type": "display_data"
    }
   ],
   "source": [
    "# Plot the average wage by gender to see if there is a difference\n",
    "average_incwage_by_gender = df.groupby('male')['incwage'].mean()\n",
    "average_incwage_by_gender.index = ['Female', 'Male']\n",
    "\n",
    "plt.figure(figsize=(10, 6))\n",
    "average_incwage_by_gender.plot(kind='bar', color='yellow', edgecolor='black')\n",
    "plt.title('Average Income Wage by Gender')\n",
    "plt.xlabel('Gender')\n",
    "plt.ylabel('Average Income Wage')\n",
    "plt.xticks(rotation=0)\n",
    "plt.grid(axis='y')\n",
    "plt.show()"
   ]
  },
  {
   "cell_type": "markdown",
   "metadata": {},
   "source": [
    "We see there is a clear discrepancy in average income wage between the genders as shown in the graph above. Now, we will test if these differences are all statistically significant enough to account for in the analysis of the average income wage with educational levels."
   ]
  },
  {
   "cell_type": "markdown",
   "metadata": {},
   "source": [
    "## Data Analysis: Linear Model Significance (Gender)"
   ]
  },
  {
   "cell_type": "markdown",
   "metadata": {},
   "source": [
    "We will do a T-test to see if there is a significant difference in income wage based on higher or lower education degree. \n",
    "\n",
    "We have seen in the EDA that, visually, there seems to be a much higher average income wage for people with the higher education than not, and will see if this was statistically significant."
   ]
  },
  {
   "cell_type": "code",
   "execution_count": 13,
   "metadata": {},
   "outputs": [
    {
     "data": {
      "text/plain": [
       "(-64.00171082743836, 0.0)"
      ]
     },
     "execution_count": 13,
     "metadata": {},
     "output_type": "execute_result"
    }
   ],
   "source": [
    "# Save the income data for all higher education degree and lower education degree people\n",
    "inc_lo = df[df['higher_ed'] == 0]['incwage']\n",
    "inc_hi = df[df['higher_ed'] == 1]['incwage']\n",
    "\n",
    "# Calculate the average income for higher and lower education degree people\n",
    "avg_inc_lo = inc_lo.mean()\n",
    "avg_inc_hi = inc_hi.mean()\n",
    "\n",
    "# use ttest_ind function to do a t-test on average income wage \n",
    "t_val, p_val = ttest_ind(inc_lo, inc_hi)\n",
    "t_val, p_val"
   ]
  },
  {
   "cell_type": "code",
   "execution_count": 14,
   "metadata": {},
   "outputs": [
    {
     "name": "stdout",
     "output_type": "stream",
     "text": [
      "There is a significant difference in wages between lesser education and higher education people!\n"
     ]
    }
   ],
   "source": [
    "if p_val < 0.01:\n",
    "    print('There is a significant difference in wages between lesser education and higher education people!')\n",
    "else:\n",
    "    print('There is NOT a significant difference!')"
   ]
  },
  {
   "cell_type": "markdown",
   "metadata": {},
   "source": [
    "Although this T-test shows that there is a significant difference in income, we are not done yet. We should try some other confounding variables as they may be of worry.\n",
    "\n",
    "We will look at gender first as there have been numerous studies showing gender inequalities between men and women and in the EDA, visually, there seemed to be discrepancies in the average income wage between men and women."
   ]
  },
  {
   "cell_type": "code",
   "execution_count": 15,
   "metadata": {},
   "outputs": [
    {
     "data": {
      "text/plain": [
       "(0.4799613571825873, 0.5468157662414097)"
      ]
     },
     "execution_count": 15,
     "metadata": {},
     "output_type": "execute_result"
    }
   ],
   "source": [
    "# look at the gender ratios of both higher and lower education degree achieved people\n",
    "g_inc_lo = df[df['higher_ed'] == 0]['male'].value_counts()\n",
    "g_inc_hi = df[df['higher_ed'] == 1]['male'].value_counts()\n",
    "\n",
    "# get the male ratios\n",
    "r_inc_lo = g_inc_lo[0] / (g_inc_lo[0] + g_inc_lo[1])\n",
    "r_inc_hi = g_inc_hi[0] / (g_inc_hi[0] + g_inc_hi[1])\n",
    "\n",
    "r_inc_lo, r_inc_hi"
   ]
  },
  {
   "cell_type": "code",
   "execution_count": 16,
   "metadata": {},
   "outputs": [
    {
     "name": "stdout",
     "output_type": "stream",
     "text": [
      "There is a significant difference in ratios!\n"
     ]
    }
   ],
   "source": [
    "chisq, p_val_chi = stats.chisquare(np.array([g_inc_lo.values, g_inc_hi.values]), axis=None)\n",
    "\n",
    "if p_val_chi < 0.01:\n",
    "    print('There is a significant difference in ratios!')"
   ]
  },
  {
   "cell_type": "markdown",
   "metadata": {},
   "source": [
    "The chi squared test shows that there is a statistically significant difference in the ratio of men between the two groups with there being more men in the higher education count, which is the category that our hypothesis would suggest that has the higher average income wage. Therefore, we would need to account for this discrepancy in male ratios."
   ]
  },
  {
   "cell_type": "code",
   "execution_count": 17,
   "metadata": {},
   "outputs": [
    {
     "data": {
      "text/html": [
       "<div>\n",
       "<style scoped>\n",
       "    .dataframe tbody tr th:only-of-type {\n",
       "        vertical-align: middle;\n",
       "    }\n",
       "\n",
       "    .dataframe tbody tr th {\n",
       "        vertical-align: top;\n",
       "    }\n",
       "\n",
       "    .dataframe thead th {\n",
       "        text-align: right;\n",
       "    }\n",
       "</style>\n",
       "<table border=\"1\" class=\"dataframe\">\n",
       "  <thead>\n",
       "    <tr style=\"text-align: right;\">\n",
       "      <th></th>\n",
       "      <th></th>\n",
       "      <th>incwage</th>\n",
       "    </tr>\n",
       "    <tr>\n",
       "      <th>higher_ed</th>\n",
       "      <th>male</th>\n",
       "      <th></th>\n",
       "    </tr>\n",
       "  </thead>\n",
       "  <tbody>\n",
       "    <tr>\n",
       "      <th rowspan=\"2\" valign=\"top\">0</th>\n",
       "      <th>0</th>\n",
       "      <td>16792.008173</td>\n",
       "    </tr>\n",
       "    <tr>\n",
       "      <th>1</th>\n",
       "      <td>34104.810516</td>\n",
       "    </tr>\n",
       "    <tr>\n",
       "      <th rowspan=\"2\" valign=\"top\">1</th>\n",
       "      <th>0</th>\n",
       "      <td>41084.785210</td>\n",
       "    </tr>\n",
       "    <tr>\n",
       "      <th>1</th>\n",
       "      <td>70237.167189</td>\n",
       "    </tr>\n",
       "  </tbody>\n",
       "</table>\n",
       "</div>"
      ],
      "text/plain": [
       "                     incwage\n",
       "higher_ed male              \n",
       "0         0     16792.008173\n",
       "          1     34104.810516\n",
       "1         0     41084.785210\n",
       "          1     70237.167189"
      ]
     },
     "execution_count": 17,
     "metadata": {},
     "output_type": "execute_result"
    }
   ],
   "source": [
    "# show the charts of average income for higher_ed and male combo\n",
    "pv = df.pivot_table(values='incwage', index=['higher_ed', 'male'])\n",
    "pv"
   ]
  },
  {
   "cell_type": "markdown",
   "metadata": {},
   "source": [
    "We see in the above table that there is evidence that the higher_ed column does have an affect on the incwage column as we see based on the different values of higher_ed and male values, we have higher incwage for higher_ed = 1 males than with higher_ed = 0 males, and higher_ed = 1 females have higher incwage than higher_ed = 0 females."
   ]
  },
  {
   "cell_type": "markdown",
   "metadata": {},
   "source": [
    "We will try fitting a ordinary least squares linear model on both **higher_ed with incwage and high_ed** AND **male columns with incwage**. This determines if higher_ed could be used to significantly predict income wage. If successful, it suggests there is a signficiant correlation between higher education and income."
   ]
  },
  {
   "cell_type": "code",
   "execution_count": 18,
   "metadata": {},
   "outputs": [
    {
     "data": {
      "text/plain": [
       "True"
      ]
     },
     "execution_count": 18,
     "metadata": {},
     "output_type": "execute_result"
    }
   ],
   "source": [
    "# fit a linear model on the data\n",
    "outcome_1, predictors_1 = patsy.dmatrices('incwage ~ higher_ed', data=df)\n",
    "mod_1 = sm.OLS(outcome_1, predictors_1)\n",
    "res_1 = mod_1.fit()\n",
    "\n",
    "p_values = res_1.pvalues\n",
    "lm_1 = bool(p_values[1] < 0.01) # if True, there is linear correlation between higher_ed and income wage\n",
    "lm_1"
   ]
  },
  {
   "cell_type": "code",
   "execution_count": 19,
   "metadata": {},
   "outputs": [
    {
     "data": {
      "text/plain": [
       "True"
      ]
     },
     "execution_count": 19,
     "metadata": {},
     "output_type": "execute_result"
    }
   ],
   "source": [
    "outcome_2, predictors_2 = patsy.dmatrices('incwage ~ higher_ed + male', data=df)\n",
    "mod_2 = sm.OLS(outcome_2, predictors_2)\n",
    "res_2 = mod_2.fit()\n",
    "\n",
    "lm_2 = bool(res_2.pvalues[1] < 0.01) # if answer is true, higher_ed does significantly predict income wage\n",
    "lm_2"
   ]
  },
  {
   "cell_type": "markdown",
   "metadata": {},
   "source": [
    "Both came to the conclusion that higher_ed is a significant predictor of incwage, with and without the male column using an alpha significance level of 0.01. This suggests higher_ed is indeed a significant predictor of incwage when into account the discrepancy in gender ratios."
   ]
  },
  {
   "cell_type": "markdown",
   "metadata": {},
   "source": [
    "## Data Analysis: Linear Model Significance (Age)"
   ]
  },
  {
   "cell_type": "markdown",
   "metadata": {},
   "source": [
    "Since we already concluded a significant difference in the average income of people with higher_ed compared to those without, we will next see if there is a signficant difference in the ages between the two groups. We will approach this with a T-test."
   ]
  },
  {
   "cell_type": "code",
   "execution_count": 20,
   "metadata": {},
   "outputs": [
    {
     "data": {
      "text/plain": [
       "(18.79765368155733, 1.1096218614820434e-78)"
      ]
     },
     "execution_count": 20,
     "metadata": {},
     "output_type": "execute_result"
    }
   ],
   "source": [
    "# Calculate the average age for higher and lower education degree people\n",
    "age_lo = df[df['higher_ed'] == 0]['age']\n",
    "age_hi = df[df['higher_ed'] == 1]['age']\n",
    "avg_age_lo = age_lo.mean()\n",
    "avg_age_hi = age_hi.mean()\n",
    "\n",
    "# use ttest_ind function to do a t-test on average age \n",
    "t_val, p_val = ttest_ind(age_lo, age_hi)\n",
    "t_val, p_val"
   ]
  },
  {
   "cell_type": "code",
   "execution_count": 21,
   "metadata": {},
   "outputs": [
    {
     "name": "stdout",
     "output_type": "stream",
     "text": [
      "There is a significant difference in ages between lesser education and higher education people!\n"
     ]
    }
   ],
   "source": [
    "if p_val < 0.01:\n",
    "    print('There is a significant difference in ages between lesser education and higher education people!')\n",
    "else:\n",
    "    print('There is NOT a significant difference!')"
   ]
  },
  {
   "cell_type": "markdown",
   "metadata": {},
   "source": [
    "The T-test shows that there is a significant difference between the average ages of people with higher_ed and those without. This represents we have to take this into account if having higer_ed really is a significant predictor of income wage. Similarly to accounting for differing gender ratios, we will account for the differing average ages. \n",
    "\n",
    "We will use square root of age here as, like we have seen in the EDA, the age variable seems to have a quadratic relationship with income wage so we would fit a linear model on the square root of it. \n",
    "\n",
    "We will run the OLS linear model test to see if we get the result: higher_ed does significantly predict income wage."
   ]
  },
  {
   "cell_type": "code",
   "execution_count": 22,
   "metadata": {},
   "outputs": [
    {
     "data": {
      "text/plain": [
       "True"
      ]
     },
     "execution_count": 22,
     "metadata": {},
     "output_type": "execute_result"
    }
   ],
   "source": [
    "outcome_4, predictors_4 = patsy.dmatrices('incwage ~ higher_ed + np.sqrt(age)', data=df)\n",
    "mod_4 = sm.OLS(outcome_4, predictors_4)\n",
    "res_4 = mod_4.fit()\n",
    "\n",
    "lm_4 = bool(res_4.pvalues[1] < 0.01) # if answer is true, higher_ed does significantly predict income wage\n",
    "lm_4"
   ]
  },
  {
   "cell_type": "markdown",
   "metadata": {},
   "source": [
    "Both came to the conclusion that higher_ed is a significant predictor of incwage, with and without the age factoring in using an alpha significance level of 0.01. This suggests that higher_ed is indeed a significant predictor of incwage even when taking into account the discrepancy in average ages between the groups (albeit an absolute small one)."
   ]
  },
  {
   "cell_type": "markdown",
   "metadata": {},
   "source": [
    "## Data Analysis: Linear Model Significance (Race)"
   ]
  },
  {
   "cell_type": "markdown",
   "metadata": {},
   "source": [
    "Finally, we will determine if there is a signficant difference in the racial decomposition between the two groups. We will use a chi-squared test of independence to see if the distribution of the racial decomposition of the two groups are similar or not."
   ]
  },
  {
   "cell_type": "code",
   "execution_count": 23,
   "metadata": {},
   "outputs": [
    {
     "data": {
      "text/html": [
       "<div>\n",
       "<style scoped>\n",
       "    .dataframe tbody tr th:only-of-type {\n",
       "        vertical-align: middle;\n",
       "    }\n",
       "\n",
       "    .dataframe tbody tr th {\n",
       "        vertical-align: top;\n",
       "    }\n",
       "\n",
       "    .dataframe thead th {\n",
       "        text-align: right;\n",
       "    }\n",
       "</style>\n",
       "<table border=\"1\" class=\"dataframe\">\n",
       "  <thead>\n",
       "    <tr style=\"text-align: right;\">\n",
       "      <th>race</th>\n",
       "      <th>asian/pacific</th>\n",
       "      <th>black</th>\n",
       "      <th>multiple/other</th>\n",
       "      <th>native</th>\n",
       "      <th>white</th>\n",
       "    </tr>\n",
       "    <tr>\n",
       "      <th>higher_ed</th>\n",
       "      <th></th>\n",
       "      <th></th>\n",
       "      <th></th>\n",
       "      <th></th>\n",
       "      <th></th>\n",
       "    </tr>\n",
       "  </thead>\n",
       "  <tbody>\n",
       "    <tr>\n",
       "      <th>0</th>\n",
       "      <td>1823</td>\n",
       "      <td>4841</td>\n",
       "      <td>697</td>\n",
       "      <td>774</td>\n",
       "      <td>26024</td>\n",
       "    </tr>\n",
       "    <tr>\n",
       "      <th>1</th>\n",
       "      <td>5016</td>\n",
       "      <td>6458</td>\n",
       "      <td>1092</td>\n",
       "      <td>681</td>\n",
       "      <td>44522</td>\n",
       "    </tr>\n",
       "  </tbody>\n",
       "</table>\n",
       "</div>"
      ],
      "text/plain": [
       "race       asian/pacific  black  multiple/other  native  white\n",
       "higher_ed                                                     \n",
       "0                   1823   4841             697     774  26024\n",
       "1                   5016   6458            1092     681  44522"
      ]
     },
     "execution_count": 23,
     "metadata": {},
     "output_type": "execute_result"
    }
   ],
   "source": [
    "contingency_table = pd.crosstab(df['higher_ed'], df['race'])\n",
    "contingency_table"
   ]
  },
  {
   "cell_type": "code",
   "execution_count": 24,
   "metadata": {},
   "outputs": [
    {
     "data": {
      "text/plain": [
       "True"
      ]
     },
     "execution_count": 24,
     "metadata": {},
     "output_type": "execute_result"
    }
   ],
   "source": [
    "chi2, p_value, dof, expected = chi2_contingency(contingency_table)\n",
    "significance = bool(p_value < 0.05)\n",
    "significance"
   ]
  },
  {
   "cell_type": "markdown",
   "metadata": {},
   "source": [
    "This suggests there is a statistically significant difference in the racial composition of the two groups. Therefore, we will need to run the OLS test to account for these to see if education level has a significant impact on income wage."
   ]
  },
  {
   "cell_type": "code",
   "execution_count": 25,
   "metadata": {},
   "outputs": [
    {
     "data": {
      "text/plain": [
       "True"
      ]
     },
     "execution_count": 25,
     "metadata": {},
     "output_type": "execute_result"
    }
   ],
   "source": [
    "outcome_5, predictors_5 = patsy.dmatrices('incwage ~ higher_ed + Q(\"race_asian/pacific\") + Q(\"race_black\") + Q(\"race_multiple/other\") + Q(\"race_native\") + Q(\"race_white\")', data=df)\n",
    "mod_5 = sm.OLS(outcome_5, predictors_5)\n",
    "res_5 = mod_5.fit()\n",
    "\n",
    "lm_5 = bool(res_5.pvalues[1] < 0.01)  # if answer is true, higher_ed does significantly predict income wage\n",
    "lm_5"
   ]
  },
  {
   "cell_type": "markdown",
   "metadata": {},
   "source": [
    "Both came to the conclusion that higher_ed is a significant predictor of incwage, with and without the racial decompositions factoring in using an alpha significance level of 0.01. This suggests that higher_ed is indeed a significant predictor of incwage even when taking into account the discrepancy in the racial makeup between the groups."
   ]
  },
  {
   "cell_type": "markdown",
   "metadata": {},
   "source": [
    "## Data Analysis: Putting It All Together"
   ]
  },
  {
   "cell_type": "code",
   "execution_count": 26,
   "metadata": {},
   "outputs": [
    {
     "name": "stdout",
     "output_type": "stream",
     "text": [
      "                            OLS Regression Results                            \n",
      "==============================================================================\n",
      "Dep. Variable:                incwage   R-squared:                       0.081\n",
      "Model:                            OLS   Adj. R-squared:                  0.081\n",
      "Method:                 Least Squares   F-statistic:                     1159.\n",
      "Date:                Thu, 21 Mar 2024   Prob (F-statistic):               0.00\n",
      "Time:                        00:07:33   Log-Likelihood:            -1.1477e+06\n",
      "No. Observations:               91928   AIC:                         2.295e+06\n",
      "Df Residuals:                   91920   BIC:                         2.295e+06\n",
      "Df Model:                           7                                         \n",
      "Covariance Type:            nonrobust                                         \n",
      "============================================================================================\n",
      "                               coef    std err          t      P>|t|      [0.025      0.975]\n",
      "--------------------------------------------------------------------------------------------\n",
      "Intercept                -5446.4171   1441.205     -3.779      0.000   -8271.165   -2621.669\n",
      "higher_ed                 2.983e+04    439.543     67.872      0.000     2.9e+04    3.07e+04\n",
      "male                      2.454e+04    423.173     57.987      0.000    2.37e+04    2.54e+04\n",
      "np.sqrt(age)              2475.5108    245.776     10.072      0.000    1993.793    2957.228\n",
      "Q(\"race_asian/pacific\")   7887.6881    807.549      9.767      0.000    6304.901    9470.476\n",
      "Q(\"race_black\")          -6127.2137    702.908     -8.717      0.000   -7504.907   -4749.520\n",
      "Q(\"race_multiple/other\") -2553.4470   1325.926     -1.926      0.054   -5152.248      45.354\n",
      "Q(\"race_native\")         -8206.3702   1453.583     -5.646      0.000   -1.11e+04   -5357.362\n",
      "Q(\"race_white\")           3552.9257    542.408      6.550      0.000    2489.811    4616.040\n",
      "==============================================================================\n",
      "Omnibus:                   126008.589   Durbin-Watson:                   1.888\n",
      "Prob(Omnibus):                  0.000   Jarque-Bera (JB):         44160822.236\n",
      "Skew:                           7.891   Prob(JB):                         0.00\n",
      "Kurtosis:                     109.208   Cond. No.                     3.48e+15\n",
      "==============================================================================\n",
      "\n",
      "Notes:\n",
      "[1] Standard Errors assume that the covariance matrix of the errors is correctly specified.\n",
      "[2] The smallest eigenvalue is 3.5e-25. This might indicate that there are\n",
      "strong multicollinearity problems or that the design matrix is singular.\n"
     ]
    },
    {
     "data": {
      "text/plain": [
       "True"
      ]
     },
     "execution_count": 26,
     "metadata": {},
     "output_type": "execute_result"
    }
   ],
   "source": [
    "outcome_6, predictors_6 = patsy.dmatrices('incwage ~ higher_ed + male + np.sqrt(age) + Q(\"race_asian/pacific\") + Q(\"race_black\") + Q(\"race_multiple/other\") + Q(\"race_native\") + Q(\"race_white\")', data=df)\n",
    "mod_6 = sm.OLS(outcome_6, predictors_6)\n",
    "res_6 = mod_6.fit()\n",
    "print(res_6.summary())\n",
    "\n",
    "lm_6 = bool(res_6.pvalues[1] < 0.01) # if answer is true, higher_ed does significantly predict income wage\n",
    "lm_6"
   ]
  },
  {
   "cell_type": "markdown",
   "metadata": {},
   "source": [
    "From the coefficients above, one can conclude that whether or not a person had a higher_ed, it still is the MOST significant factor in its effect on income wage (being a male follows up after).\n",
    "\n",
    "*Experimental*: Out of curiosity, we can see the varying degrees of effect on income wage each individual education degree has by instead of using \"higher_ed\", we can fit an OLS model using the one-hot encoded educational level columns. If higher levels of education achieved were to be correlated with rising average income wages, each successive education level should have a greater coefficient weight in the OLS model after fitting."
   ]
  },
  {
   "cell_type": "code",
   "execution_count": 27,
   "metadata": {},
   "outputs": [
    {
     "name": "stdout",
     "output_type": "stream",
     "text": [
      "                            OLS Regression Results                            \n",
      "==============================================================================\n",
      "Dep. Variable:                incwage   R-squared:                       0.135\n",
      "Model:                            OLS   Adj. R-squared:                  0.134\n",
      "Method:                 Least Squares   F-statistic:                     1299.\n",
      "Date:                Thu, 21 Mar 2024   Prob (F-statistic):               0.00\n",
      "Time:                        00:07:35   Log-Likelihood:            -1.1449e+06\n",
      "No. Observations:               91928   AIC:                         2.290e+06\n",
      "Df Residuals:                   91916   BIC:                         2.290e+06\n",
      "Df Model:                          11                                         \n",
      "Covariance Type:            nonrobust                                         \n",
      "============================================================================================\n",
      "                               coef    std err          t      P>|t|      [0.025      0.975]\n",
      "--------------------------------------------------------------------------------------------\n",
      "Intercept                 7135.2862   1215.589      5.870      0.000    4752.744    9517.828\n",
      "ed_lt_hs                 -2.477e+04    971.229    -25.508      0.000   -2.67e+04   -2.29e+04\n",
      "ed_some_hs               -2.207e+04    759.312    -29.072      0.000   -2.36e+04   -2.06e+04\n",
      "ed_hs_degree             -1.112e+04    456.242    -24.371      0.000    -1.2e+04   -1.02e+04\n",
      "ed_some_col              -2601.8642    448.646     -5.799      0.000   -3481.205   -1722.523\n",
      "ed_ba_degree              1.953e+04    466.385     41.871      0.000    1.86e+04    2.04e+04\n",
      "ed_post_degree            4.818e+04    573.115     84.061      0.000    4.71e+04    4.93e+04\n",
      "male                      2.464e+04    410.710     59.984      0.000    2.38e+04    2.54e+04\n",
      "np.sqrt(age)              2391.3481    238.881     10.011      0.000    1923.143    2859.553\n",
      "Q(\"race_asian/pacific\")   4217.2723    776.029      5.434      0.000    2696.264    5738.281\n",
      "Q(\"race_black\")          -2220.4696    674.756     -3.291      0.001   -3542.984    -897.955\n",
      "Q(\"race_multiple/other\")  1588.0590   1276.764      1.244      0.214    -914.386    4090.504\n",
      "Q(\"race_native\")         -2111.5866   1402.559     -1.506      0.132   -4860.587     637.414\n",
      "Q(\"race_white\")           5662.0111    514.922     10.996      0.000    4652.770    6671.252\n",
      "==============================================================================\n",
      "Omnibus:                   128170.832   Durbin-Watson:                   1.930\n",
      "Prob(Omnibus):                  0.000   Jarque-Bera (JB):         50127687.834\n",
      "Skew:                           8.116   Prob(JB):                         0.00\n",
      "Kurtosis:                     116.241   Cond. No.                     1.35e+16\n",
      "==============================================================================\n",
      "\n",
      "Notes:\n",
      "[1] Standard Errors assume that the covariance matrix of the errors is correctly specified.\n",
      "[2] The smallest eigenvalue is 2.33e-26. This might indicate that there are\n",
      "strong multicollinearity problems or that the design matrix is singular.\n"
     ]
    },
    {
     "data": {
      "text/plain": [
       "True"
      ]
     },
     "execution_count": 27,
     "metadata": {},
     "output_type": "execute_result"
    }
   ],
   "source": [
    "outcome_7, predictors_7 = patsy.dmatrices('incwage ~ ed_lt_hs + ed_some_hs + ed_hs_degree + ed_some_col + ed_ba_degree + ed_post_degree + male + np.sqrt(age) + Q(\"race_asian/pacific\") + Q(\"race_black\") + Q(\"race_multiple/other\") + Q(\"race_native\") + Q(\"race_white\")', data=df)\n",
    "mod_7 = sm.OLS(outcome_7, predictors_7)\n",
    "res_7 = mod_7.fit()\n",
    "print(res_7.summary())\n",
    "lm_7 = bool(res_7.pvalues[1] < 0.01) # if answer is true, higher_ed does significantly predict income wage\n",
    "lm_7\n"
   ]
  },
  {
   "cell_type": "markdown",
   "metadata": {},
   "source": [
    "The coefficient does increase by the degree, further contributing to our hypothesis that the level of degree does impact one's average wage in the U.S. "
   ]
  },
  {
   "cell_type": "markdown",
   "metadata": {},
   "source": [
    "# Ethics & Privacy"
   ]
  },
  {
   "cell_type": "markdown",
   "metadata": {},
   "source": [
    "There are certain privacy and ethics considerations that we will have to take into account for our project. Given that we plan to examine income levels, there is a risk of exposing sensitive financial information. To mitigate this, we commit to anonymizing the data, replacing personally identifiable information with unique identifiers to safeguard the privacy of participants. Moreover, we recognize the importance of exploring potential biases in our dataset. There could be biases related to the demographics of the sample, potentially excluding certain populations and impacting the equitable analysis of our findings. To address this, we will conduct thorough exploratory data analysis to identify any disparities in representation. During the analysis phase, we will implement appropriate statistical techniques to control for biases and ensure that our results provide a fair and comprehensive assessment. We will adhere to ethical standards, seeking to minimize the potential negative impact of our study on privacy and promoting equitable outcomes."
   ]
  },
  {
   "cell_type": "markdown",
   "metadata": {},
   "source": [
    "# Discussion and Conclusion\n",
    "\n",
    "In our data science project, we conducted a rigorous analysis of the 'cps18.csv' dataset, focusing on the relationships between education level, demographic factors, and income. The project began with a thorough data cleaning process, setting a high standard for data integrity and relevance. This foundational step included the creation of one-hot encoding for education levels and the transformation of categorical race data into dummy variables, which was crucial for our subsequent analyses.\n",
    "\n",
    "A significant aspect of our project was the use of advanced statistical techniques to explore and quantify these relationships. We conducted t-tests to examine differences in average ages between groups with varying education levels, uncovering significant distinctions that highlight the importance of education in income potential and career advancement. Additionally, our regression models were particularly insightful, revealing the strong impact of higher education on income wages despite external factors. This core finding underscores the value of educational attainment and its direct correlation with economic outcomes.\n",
    "\n",
    "Furthermore, our project effectively utilized visual tools to illustrate the distribution of income across different demographic groups. These visualizations brought to light sharp contrasts and provided an accessible way for viewers to engage with our findings.\n",
    "\n",
    "However, our study is not without limitations. The cross-sectional nature of the dataset limits our ability to infer causality. Future research could explore these relationships longitudinally to understand the evolving impact of education and demographic changes on income over time. Additionally, incorporating variables like employment sector, geographical factors, and job experience would offer a more comprehensive view of the income dynamics.\n",
    "\n",
    "In summary, our project leverages data science methodologies to elucidate the intricate connections between education, demographic characteristics, and income. The insights we have gleaned are not only academically significant but also carry profound implications for policymakers and educators. They highlight the need for policies that promote equitable access to education, thereby bridging income disparities. Our analysis serves as a robust model for similar studies and sets the stage for more expansive research in this field.\n",
    "\n",
    "\n",
    "# Team Contributions\n",
    "Sehee Kim\n",
    "- Contributed research question ideas\n",
    "- Abstract\n",
    "- Edited the data analysis multiple times to ensure readability and comprehension\n",
    "- Video\n",
    "- Slide Presentation\n",
    "\n",
    "Rayyan Khalid\n",
    "- Formed the conclusion on the whole project\n",
    "- Worked on Ethics & Privacy aspect of the project\n",
    "- Slide Presentation\n",
    "\n",
    "Andrey Kondratyuk\n",
    "- Contributed to data cleaning and EDA\n",
    "- Helped format the final version of the project\n",
    "- Slide Presentation\n",
    "\n",
    "Saeji Tyler Hong\n",
    "- Contributed to data portion of proposal\n",
    "- Set up and experimentation with data for initial stages of the project\n",
    "- Coded the analysis and statistical testing of the project\n",
    "- Video\n",
    "\n",
    "Yixuan Li\n",
    "- Contributed to finding dataset and worked on Background and Prior Work portion\n",
    "- Plan for the project outline\n",
    "- Data analysis start-up\t\n",
    "- Video\n"
   ]
  }
 ],
 "metadata": {
  "kernelspec": {
   "display_name": "Python 3 (ipykernel)",
   "language": "python",
   "name": "python3"
  },
  "language_info": {
   "codemirror_mode": {
    "name": "ipython",
    "version": 3
   },
   "file_extension": ".py",
   "mimetype": "text/x-python",
   "name": "python",
   "nbconvert_exporter": "python",
   "pygments_lexer": "ipython3",
   "version": "3.9.5"
  }
 },
 "nbformat": 4,
 "nbformat_minor": 2
}
